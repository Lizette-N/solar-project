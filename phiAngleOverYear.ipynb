{
 "cells": [
  {
   "cell_type": "code",
   "execution_count": 3,
   "metadata": {},
   "outputs": [
    {
     "data": {
      "text/plain": [
       "array([2, 5])"
      ]
     },
     "metadata": {},
     "output_type": "display_data"
    }
   ],
   "source": [
    "import pandas as pd\n",
    "import numpy as np\n",
    "import pvlib\n",
    "from pvlib.location import Location\n",
    "import sympy as sm\n",
    "import matplotlib.dates as mdates\n",
    "from dtumathtools import *\n",
    "\n",
    "from scipy import integrate\n",
    "\n",
    "def inner(x1: sm.Matrix,x2: sm.Matrix):\n",
    "    '''\n",
    "    Computes the inner product of two vectors of same length.\n",
    "    '''\n",
    "\n",
    "    return x1.dot(x2, conjugate_convention = 'right')\n",
    "\n",
    "#generation of date strings for all dates in year 2024\n",
    "dateList= []\n",
    "daysInMonth=[31,29,31,30,31,30,31,31,30,31,30,31]\n",
    "#create list of all days\n",
    "for i in range (12): #months\n",
    "    for j in range (1,daysInMonth[i]+1):\n",
    "        date = \"2024-\"\n",
    "        date=date+\"0\"+str(i+1)+\"-\" if i+1<10 else date+str(i+1)+\"-\"#add month\n",
    "        date = date +\"0\"+str(j) if (j<10) else date+str(j)        \n",
    "        dateList.append(date)\n",
    "\n",
    "sm.MutableDenseMatrix.inner = inner\n",
    "sm.ImmutableDenseMatrix.inner = inner\n",
    "L = 1.755\n",
    "B = 1.038\n",
    "maxFlux = 1000\n",
    "maxEffect = 365/(L*B)\n",
    "A = 0.5\n",
    "S0 = 1100\n",
    "S0A = S0 * A\n",
    "effectPerFlux = maxEffect/maxFlux\n",
    "\n",
    "def solar_elevation_angledeg(angle):\n",
    "    return 90-angle\n",
    "\n",
    "#return i, where list[i] has one sign, list[i+1] has another\n",
    "def signChange(list): #return index in list\n",
    "    signList=np.sign(list)\n",
    "    diffList=np.diff(signList)\n",
    "    switch=np.where(diffList != 0, 1,0)   \n",
    "    indices = np.arange(len(switch))\n",
    "    indices = indices[switch==1]\n",
    "    \n",
    "    return indices\n",
    "def signChangeFunc(inputParameter, list): #return input value\n",
    "    signList=np.sign(list)\n",
    "    diffList=np.diff(signList)\n",
    "    switch=np.where(diffList != 0, 1,0)   \n",
    "    indices = np.arange(len(switch))\n",
    "    indices = indices[switch==1]\n",
    "    return inputParameter[indices]\n",
    "\n",
    "testArray =np.array([3, 0.5, 0.1,-0.5, -1, -0.5, 0.5, 2])\n",
    "\n",
    "display(signChange(testArray))\n",
    "\n",
    "def solar_panel_projection(θ_s, ϕ_s, θ_p, ϕ_p):\n",
    "    results = np.zeros(len(θ_s))\n",
    "    for i in range(0,len(θ_s)):\n",
    "        us = [-np.sin(θ_s[i]) * np.cos(ϕ_s[i]),-np.sin(θ_s[i]) * np.sin(ϕ_s[i]), -np.cos(θ_s[i])]\n",
    "        up = [-1*np.sin(θ_p[i]) * np.cos(ϕ_p[i]), -np.sin(ϕ_p[i])*np.sin(θ_p[i]), -np.cos(θ_p[i])]\n",
    "        inprod = (np.inner(up,us))\n",
    "        results[i]=inprod\n",
    "    results=results[results>0]\n",
    "    return results\n",
    "\n"
   ]
  },
  {
   "cell_type": "code",
   "execution_count": 4,
   "metadata": {},
   "outputs": [],
   "source": [
    "\n",
    "def kWhHour(zenithangs,azimuthangs, theta_p, phi_p):\n",
    "    t= np.arange(len(zenithangs))\n",
    "    indexOfInterest = t[zenithangs[t]>=0]\n",
    "    indexOfInterest = indexOfInterest[zenithangs[indexOfInterest]<=np.pi/2]\n",
    "    zenithangs=zenithangs[indexOfInterest]\n",
    "    azimuthangs=azimuthangs[indexOfInterest]\n",
    "    \n",
    "    theta_list= np.full(len(zenithangs),theta_p)\n",
    "    phi_list=np.full(len(zenithangs),phi_p)\n",
    "    \n",
    "    projList =  solar_panel_projection(zenithangs,azimuthangs,theta_list,phi_list)\n",
    "    projList =  projList*effectPerFlux*S0A\n",
    "    projList[projList>maxEffect]=maxEffect    \n",
    "    return ((integrate.simpson(projList,dx = 3600))*L*B)/3600000\n",
    "\n",
    "def kWhMin(zenithangs,azimuthangs, theta_p, phi_p):\n",
    "    t= np.arange(len(zenithangs))\n",
    "    indexOfInterest = t[zenithangs[t]>=0]\n",
    "    indexOfInterest = indexOfInterest[zenithangs[indexOfInterest]<=np.pi/2]\n",
    "    zenithangs=zenithangs[indexOfInterest]\n",
    "    azimuthangs=azimuthangs[indexOfInterest]\n",
    "    \n",
    "    theta_list= np.full(len(zenithangs),theta_p)\n",
    "    phi_list=np.full(len(zenithangs),phi_p)\n",
    "    \n",
    "    projList =  solar_panel_projection(zenithangs,azimuthangs,theta_list,phi_list)\n",
    "    projList =  projList*effectPerFlux*S0A\n",
    "    projList[projList>maxEffect]=maxEffect    \n",
    "    return ((integrate.simpson(projList,dx = 60))*L*B)/3600000"
   ]
  },
  {
   "cell_type": "code",
   "execution_count": 16,
   "metadata": {},
   "outputs": [
    {
     "name": "stdout",
     "output_type": "stream",
     "text": [
      "Energy Production is: 515.7082259499622 Angle is: 39 Degrees from horizon Azimuth degree: 181\n"
     ]
    }
   ],
   "source": [
    "tidszone = \"Europe/Copenhagen\"\n",
    "start_dato = \"2024-01-01\"\n",
    "slut_dato = \"2024-12-31\"\n",
    "delta_tid = \"H\" # \"Min\", \"H\",\n",
    "# Definition of Location object. Coordinates and elevation of DTU,\n",
    "#Copenhagen (Denmark)\n",
    "site = Location(\n",
    "55.7861111111, 12.5230555556, tidszone, 10, \"DTU (DK)\"\n",
    ") # latitude, longitude, time_zone, altitude, name\n",
    "# Definition of a time range of simulation\n",
    "times = pd.date_range(\n",
    "start_dato + \" 00:00:00\", slut_dato + \" 23:59:00\",\n",
    "inclusive=\"left\", freq=delta_tid, tz=tidszone\n",
    ")\n",
    "# Estimate Solar Position with the ’Location’ object\n",
    "solpos = site.get_solarposition(times)\n",
    "results1 = []\n",
    "#Lister af solens Zenith og Azimuth vinkler hver time over et ar\n",
    "zenithangs = np.deg2rad(np.array(solpos.loc[start_dato:slut_dato].apparent_zenith))\n",
    "azimuthangs = np.deg2rad(np.array(solpos.loc[start_dato:slut_dato].azimuth))\n",
    "# Azimuth vinkel for panelet\n",
    "phi_p = 180\n",
    "#Der itereres over panelets azimuth vinkler fra 90 til 270\n",
    "for j in range(170,190):\n",
    "    phi_p = j\n",
    "    results = []\n",
    "# Der itereres over panelets zenith vinkeler fra 0 til 90\n",
    "    for i in range(0,91):\n",
    "        heta_p = i\n",
    "# Effekten for et helt ar ved en given zenith og azimuth vinkel for panelet beregnes\n",
    "        energyPrYear = kWhHour(zenithangs,azimuthangs,\n",
    "        np.deg2rad(heta_p), np.deg2rad(phi_p))\n",
    "        results.append(energyPrYear)\n",
    "    results1.append(results)\n",
    "# Finder maks effekt og tilsvarende vinkler\n",
    "max = 0\n",
    "angle_p=-1\n",
    "angle_t=-1\n",
    "for i in range(0,len(results1)):\n",
    "    for j in range(0,len(results1[i])):\n",
    "        if(results1[i][j] > max):\n",
    "            max = results1[i][j]\n",
    "            angle_p = i\n",
    "            angle_t = j\n",
    "print(\"Energy Production is:\",max,\"Angle is:\",solar_elevation_angledeg(angle_t),\n",
    "\"Degrees from horizon\",\"Azimuth degree:\",angle_p+170)"
   ]
  },
  {
   "cell_type": "code",
   "execution_count": null,
   "metadata": {},
   "outputs": [],
   "source": []
  },
  {
   "cell_type": "code",
   "execution_count": 12,
   "metadata": {},
   "outputs": [
    {
     "name": "stdout",
     "output_type": "stream",
     "text": [
      "Energy Production is: 439.7635535642131 Angle is: 8 Degrees from horizon 82\n"
     ]
    }
   ],
   "source": [
    "for i in range(0,len(results1)):\n",
    "    for j in range(0,len(results1[i])):\n",
    "        if(results1[i][j] > max):\n",
    "            max = results[i]\n",
    "            angle = i\n",
    "            angle1 = j\n",
    "        \n",
    "print(\"Energy Production is:\",max,\n",
    "\"Angle is:\",solar_elevation_angledeg(angle1),\"Degrees from horizon\", angle1,)"
   ]
  },
  {
   "cell_type": "code",
   "execution_count": null,
   "metadata": {},
   "outputs": [],
   "source": []
  }
 ],
 "metadata": {
  "kernelspec": {
   "display_name": "Python 3",
   "language": "python",
   "name": "python3"
  },
  "language_info": {
   "codemirror_mode": {
    "name": "ipython",
    "version": 3
   },
   "file_extension": ".py",
   "mimetype": "text/x-python",
   "name": "python",
   "nbconvert_exporter": "python",
   "pygments_lexer": "ipython3",
   "version": "3.11.5"
  }
 },
 "nbformat": 4,
 "nbformat_minor": 2
}
