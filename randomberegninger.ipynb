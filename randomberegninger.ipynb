{
 "cells": [
  {
   "cell_type": "code",
   "execution_count": 1,
   "metadata": {},
   "outputs": [],
   "source": [
    "from sympy import *\n",
    "from dtumathtools import *\n",
    "import numpy as np\n",
    "import matplotlib.pyplot as plt\n",
    "init_printing()\n",
    "def inner(x1: Matrix,x2: Matrix):\n",
    "    '''\n",
    "    Computes the inner product of two vectors of same length.\n",
    "    '''\n",
    "\n",
    "    return x1.dot(x2, conjugate_convention = 'right')\n",
    "\n",
    "MutableDenseMatrix.inner = inner\n",
    "ImmutableDenseMatrix.inner = inner\n",
    "x, y ,z ,n, u, v, θ, ϕ = symbols('x,y,z,n,u,v,θ, ϕ')"
   ]
  },
  {
   "cell_type": "code",
   "execution_count": 2,
   "metadata": {},
   "outputs": [],
   "source": [
    "θ_s, θ_p, ϕ_s, ϕ_p, r_s = symbols('θ_s, θ_p, ϕ_s, ϕ_p, r_s', real = true)"
   ]
  },
  {
   "cell_type": "code",
   "execution_count": 3,
   "metadata": {},
   "outputs": [
    {
     "data": {
      "image/png": "[encoded data removed]",
      "text/latex": [
       "$\\displaystyle \\sqrt{r_{s}^{2} \\sin^{2}{\\left(θ \\right)} \\sin^{2}{\\left(ϕ \\right)} + r_{s}^{2} \\sin^{2}{\\left(θ \\right)} \\cos^{2}{\\left(ϕ \\right)} + r_{s}^{2} \\cos^{2}{\\left(θ \\right)}}$"
      ],
      "text/plain": [
       "   _________________________________________________________\n",
       "  ╱   2    2       2        2    2       2        2    2    \n",
       "╲╱  rₛ ⋅sin (θ)⋅sin (ϕ) + rₛ ⋅sin (θ)⋅cos (ϕ) + rₛ ⋅cos (θ) "
      ]
     },
     "metadata": {},
     "output_type": "display_data"
    },
    {
     "data": {
      "image/png": "[encoded data removed]",
      "text/latex": [
       "$\\displaystyle \\left|{r_{s}}\\right|$"
      ],
      "text/plain": [
       "│rₛ│"
      ]
     },
     "execution_count": 3,
     "metadata": {},
     "output_type": "execute_result"
    }
   ],
   "source": [
    "vpvs = (sqrt(((-r_s*sin(θ))*cos(ϕ))**2+(-r_s*sin(θ)*sin(ϕ))**2+(-r_s*cos(θ))**2))\n",
    "#vpvs = vpvs.subs(r_s,1)\n",
    "display(vpvs)\n",
    "vpvs.simplify()"
   ]
  },
  {
   "cell_type": "code",
   "execution_count": 11,
   "metadata": {},
   "outputs": [
    {
     "data": {
      "image/png": "[encoded data removed]",
      "text/latex": [
       "$\\displaystyle \\left[ 0.707106781186548, \\  6.12323399573677 \\cdot 10^{-17}, \\  0.0\\right]$"
      ],
      "text/plain": [
       "[0.707106781186548, 6.12323399573677e-17, 0.0]"
      ]
     },
     "execution_count": 11,
     "metadata": {},
     "output_type": "execute_result"
    }
   ],
   "source": [
    "def solar_panel_projection(θ_s, ϕ_s, θ_p, ϕ_p):\n",
    "    results = []\n",
    "    for i in range(0,len(θ_s)):\n",
    "        us = Matrix([-np.sin(θ_s[i]) * np.cos(ϕ_s[i]),-np.sin(θ_s[i]) * np.sin(ϕ_s[i]), -np.cos(θ_s[i])])\n",
    "        up = Matrix([-1*np.sin(θ_p[i]) * np.cos(ϕ_p[i]), -np.sin(ϕ_p[i])*np.sin(θ_p[i]), -np.cos(θ_p[i])])\n",
    "        #display(us, up)\n",
    "        inprod = (inner(us,up))\n",
    "        simpinprod = inprod.simplify()\n",
    "        if(simpinprod < 0):\n",
    "            results.append(0.0)\n",
    "        else:\n",
    "            results.append(simpinprod)\n",
    "    return results\n",
    "theta_sol = np.array([np.pi / 4, np.pi / 2, 0.0])\n",
    "phi_sol = np.array([np.pi, np.pi / 2, 0.0])\n",
    "theta_panel = np.array([0.0, np.pi / 2, np.pi])\n",
    "phi_panel = np.array([np.pi, 0.0, 0.0])\n",
    "\n",
    "solar_panel_projection(theta_sol, phi_sol, theta_panel, phi_panel)"
   ]
  },
  {
   "cell_type": "code",
   "execution_count": 5,
   "metadata": {},
   "outputs": [
    {
     "data": {
      "image/png": "[encoded data removed]",
      "text/latex": [
       "$\\displaystyle \\left[ \\left\\{ θ_{p} : 0, \\  θ_{s} : 0\\right\\}, \\  \\left\\{ θ_{p} : 0, \\  θ_{s} : 0\\right\\}, \\  \\left\\{ θ_{p} : 0, \\  θ_{s} : \\pi\\right\\}, \\  \\left\\{ θ_{p} : 0, \\  θ_{s} : \\pi\\right\\}, \\  \\left\\{ θ_{p} : \\pi, \\  θ_{s} : 0\\right\\}, \\  \\left\\{ θ_{p} : \\pi, \\  θ_{s} : 0\\right\\}, \\  \\left\\{ θ_{p} : \\pi, \\  θ_{s} : \\pi\\right\\}, \\  \\left\\{ θ_{p} : \\pi, \\  θ_{s} : \\pi\\right\\}\\right]$"
      ],
      "text/plain": [
       "[{θₚ: 0, θₛ: 0}, {θₚ: 0, θₛ: 0}, {θₚ: 0, θₛ: π}, {θₚ: 0, θₛ: π}, {θₚ: π, θₛ: 0\n",
       "}, {θₚ: π, θₛ: 0}, {θₚ: π, θₛ: π}, {θₚ: π, θₛ: π}]"
      ]
     },
     "metadata": {},
     "output_type": "display_data"
    },
    {
     "data": {
      "image/png": "[encoded data removed]",
      "text/latex": [
       "$\\displaystyle 1$"
      ],
      "text/plain": [
       "1"
      ]
     },
     "metadata": {},
     "output_type": "display_data"
    },
    {
     "data": {
      "image/png": "[encoded data removed]",
      "text/latex": [
       "$\\displaystyle 1$"
      ],
      "text/plain": [
       "1"
      ]
     },
     "metadata": {},
     "output_type": "display_data"
    },
    {
     "data": {
      "image/png": "[encoded data removed]",
      "text/latex": [
       "$\\displaystyle -1$"
      ],
      "text/plain": [
       "-1"
      ]
     },
     "metadata": {},
     "output_type": "display_data"
    },
    {
     "data": {
      "image/png": "[encoded data removed]",
      "text/latex": [
       "$\\displaystyle -1$"
      ],
      "text/plain": [
       "-1"
      ]
     },
     "metadata": {},
     "output_type": "display_data"
    },
    {
     "data": {
      "image/png": "[encoded data removed]",
      "text/latex": [
       "$\\displaystyle -1$"
      ],
      "text/plain": [
       "-1"
      ]
     },
     "metadata": {},
     "output_type": "display_data"
    },
    {
     "data": {
      "image/png": "[encoded data removed]",
      "text/latex": [
       "$\\displaystyle -1$"
      ],
      "text/plain": [
       "-1"
      ]
     },
     "metadata": {},
     "output_type": "display_data"
    },
    {
     "data": {
      "image/png": "[encoded data removed]",
      "text/latex": [
       "$\\displaystyle 1$"
      ],
      "text/plain": [
       "1"
      ]
     },
     "metadata": {},
     "output_type": "display_data"
    },
    {
     "data": {
      "image/png": "[encoded data removed]",
      "text/latex": [
       "$\\displaystyle 1$"
      ],
      "text/plain": [
       "1"
      ]
     },
     "metadata": {},
     "output_type": "display_data"
    }
   ],
   "source": [
    "θ_s, θ_p, ϕ_s, ϕ_p, r_s = symbols('θ_s, θ_p, ϕ_s, ϕ_p, r_s', real = true) # Variable til funktioner\n",
    "us = Matrix([-sin(θ_s) * cos(ϕ_s),-sin(θ_s) * sin(ϕ_s), -cos(θ_s)]) # Vektoren for u_s\n",
    "up = Matrix([-1*sin(θ_p) * cos(ϕ_p), -sin(ϕ_p)*sin(θ_p), -cos(θ_p)]) # Vektoren for u_p\n",
    "inprod = (inner(us,up)) # Indre produkt beregnes\n",
    "simpinprod = inprod.simplify() # Simplificeret indre produkt\n",
    "inprodgrad = dtutools.gradient(simpinprod) # Gradienten af det simplificerede indre produkt\n",
    "eq1 = Eq(inprodgrad, Matrix([0,0,0,0])) # Gradienten opsættes i en ligning med løsning som 0-vektoren (stationære punkter)\n",
    "sols = solve(eq1) # Den angivne ligning løses\n",
    "display(sols)\n",
    "for i in range(0,len(sols)):\n",
    "    display(inprod.subs(sols[i])) # Funktionsværdierne for de stationære punkter findes"
   ]
  },
  {
   "cell_type": "code",
   "execution_count": null,
   "metadata": {},
   "outputs": [],
   "source": []
  }
 ],
 "metadata": {
  "kernelspec": {
   "display_name": "Python 3",
   "language": "python",
   "name": "python3"
  },
  "language_info": {
   "codemirror_mode": {
    "name": "ipython",
    "version": 3
   },
   "file_extension": ".py",
   "mimetype": "text/x-python",
   "name": "python",
   "nbconvert_exporter": "python",
   "pygments_lexer": "ipython3",
   "version": "3.11.5"
  }
 },
 "nbformat": 4,
 "nbformat_minor": 2
}
