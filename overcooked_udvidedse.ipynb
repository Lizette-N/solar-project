{
 "cells": [
  {
   "cell_type": "code",
   "execution_count": 73,
   "metadata": {},
   "outputs": [],
   "source": [
    "from sympy import *\n",
    "from dtumathtools import *\n",
    "init_printing()\n",
    "def inner(x1: Matrix,x2: Matrix):\n",
    "    '''\n",
    "    Computes the inner product of two vectors of same length.\n",
    "    '''\n",
    "\n",
    "    return x1.dot(x2, conjugate_convention = 'right')\n",
    "\n",
    "MutableDenseMatrix.inner = inner\n",
    "ImmutableDenseMatrix.inner = inner\n",
    "x, y ,z ,n, u, v, θ, p = symbols('x,y,z,n,u,v,θ,\\phi',real=true)"
   ]
  },
  {
   "cell_type": "code",
   "execution_count": 74,
   "metadata": {},
   "outputs": [
    {
     "data": {
      "text/latex": [
       "$\\displaystyle \\left[\\begin{matrix}0.5 \\sin{\\left(0.5 u \\right)}\\\\0\\\\1\\end{matrix}\\right]$"
      ],
      "text/plain": [
       "⎡0.5⋅sin(0.5⋅u)⎤\n",
       "⎢              ⎥\n",
       "⎢      0       ⎥\n",
       "⎢              ⎥\n",
       "⎣      1       ⎦"
      ]
     },
     "execution_count": 74,
     "metadata": {},
     "output_type": "execute_result"
    }
   ],
   "source": [
    "r_u = Matrix([[1], [0], [-0.5*sin(0.5*u)]])\n",
    "r_v = Matrix([[0], [1], [0]])\n",
    "product = r_u.cross(r_v)\n",
    "product"
   ]
  },
  {
   "cell_type": "code",
   "execution_count": 75,
   "metadata": {},
   "outputs": [
    {
     "data": {
      "text/latex": [
       "$\\displaystyle \\left[\\begin{matrix}1 & 0\\\\0 & 1\\\\- 0.5 \\sin{\\left(0.5 u \\right)} & 0\\end{matrix}\\right]$"
      ],
      "text/plain": [
       "⎡       1         0⎤\n",
       "⎢                  ⎥\n",
       "⎢       0         1⎥\n",
       "⎢                  ⎥\n",
       "⎣-0.5⋅sin(0.5⋅u)  0⎦"
      ]
     },
     "execution_count": 75,
     "metadata": {},
     "output_type": "execute_result"
    }
   ],
   "source": [
    "r = Matrix([[u], [v], [cos(0.5 * u)]])\n",
    "r_jacc = r.jacobian([u, v])\n",
    "r_jacc"
   ]
  },
  {
   "cell_type": "code",
   "execution_count": 76,
   "metadata": {},
   "outputs": [
    {
     "data": {
      "image/png": "[encoded data removed]",
      "text/latex": [
       "$\\displaystyle \\sqrt{0.25 \\sin^{2}{\\left(0.5 u \\right)} + 1}$"
      ],
      "text/plain": [
       "   ______________________\n",
       "  ╱         2            \n",
       "╲╱  0.25⋅sin (0.5⋅u) + 1 "
      ]
     },
     "execution_count": 76,
     "metadata": {},
     "output_type": "execute_result"
    }
   ],
   "source": [
    "r_jacc_alt = sqrt(det(r_jacc.T * r_jacc))\n",
    "r_jacc_alt"
   ]
  },
  {
   "cell_type": "code",
   "execution_count": 77,
   "metadata": {},
   "outputs": [],
   "source": [
    "andengrads_a = -0.26/(1.68**2/2**2)"
   ]
  },
  {
   "cell_type": "code",
   "execution_count": 78,
   "metadata": {},
   "outputs": [
    {
     "data": {
      "text/latex": [
       "$\\displaystyle \\left[\\begin{matrix}- 0.736961451247166 u\\\\0\\\\-1\\end{matrix}\\right]$"
      ],
      "text/plain": [
       "⎡-0.736961451247166⋅u⎤\n",
       "⎢                    ⎥\n",
       "⎢         0          ⎥\n",
       "⎢                    ⎥\n",
       "⎣         -1         ⎦"
      ]
     },
     "execution_count": 78,
     "metadata": {},
     "output_type": "execute_result"
    }
   ],
   "source": [
    "r = Matrix([[u], [v], [andengrads_a*u**2 + 0.26]])\n",
    "r_u = r.diff(u)\n",
    "r_v = r.diff(v)\n",
    "product = r_v.cross(r_u)\n",
    "product"
   ]
  },
  {
   "cell_type": "code",
   "execution_count": 79,
   "metadata": {},
   "outputs": [
    {
     "data": {
      "text/latex": [
       "$\\displaystyle \\left[\\begin{matrix}1 & 0\\\\0 & 1\\\\- 0.736961451247166 u & 0\\end{matrix}\\right]$"
      ],
      "text/plain": [
       "⎡         1            0⎤\n",
       "⎢                       ⎥\n",
       "⎢         0            1⎥\n",
       "⎢                       ⎥\n",
       "⎣-0.736961451247166⋅u  0⎦"
      ]
     },
     "execution_count": 79,
     "metadata": {},
     "output_type": "execute_result"
    }
   ],
   "source": [
    "r_jacc = r.jacobian([u, v])\n",
    "r_jacc"
   ]
  },
  {
   "cell_type": "code",
   "execution_count": 80,
   "metadata": {},
   "outputs": [
    {
     "data": {
      "image/png": "[encoded data removed]",
      "text/latex": [
       "$\\displaystyle \\sqrt{0.543112180624329 u^{2} + 1}$"
      ],
      "text/plain": [
       "   __________________________\n",
       "  ╱                    2     \n",
       "╲╱  0.543112180624329⋅u  + 1 "
      ]
     },
     "execution_count": 80,
     "metadata": {},
     "output_type": "execute_result"
    }
   ],
   "source": [
    "r_jacc_alt = sqrt(det(r_jacc.T * r_jacc))\n",
    "r_jacc_alt"
   ]
  },
  {
   "cell_type": "code",
   "execution_count": 81,
   "metadata": {},
   "outputs": [
    {
     "data": {
      "image/png": "[encoded data removed]",
      "text/latex": [
       "$\\displaystyle \\frac{0.736961451247166 u \\sin{\\left(θ \\right)} \\cos{\\left(\\phi \\right)}}{\\sqrt{0.543112180624329 u^{2} + 1}} + \\frac{\\cos{\\left(θ \\right)}}{\\sqrt{0.543112180624329 u^{2} + 1}}$"
      ],
      "text/plain": [
       "0.736961451247166⋅u⋅sin(θ)⋅cos(\\phi)               cos(θ)           \n",
       "──────────────────────────────────── + ─────────────────────────────\n",
       "      __________________________          __________________________\n",
       "     ╱                    2              ╱                    2     \n",
       "   ╲╱  0.543112180624329⋅u  + 1        ╲╱  0.543112180624329⋅u  + 1 "
      ]
     },
     "execution_count": 81,
     "metadata": {},
     "output_type": "execute_result"
    }
   ],
   "source": [
    "V_s = Matrix([[-sin(θ)*cos(p)], [-sin(θ)*sin(p)], [-cos(θ)]])\n",
    "inner = inner(V_s, product.normalized())\n",
    "inner"
   ]
  },
  {
   "cell_type": "code",
   "execution_count": 82,
   "metadata": {},
   "outputs": [
    {
     "data": {
      "image/png": "[encoded data removed]",
      "text/latex": [
       "$\\displaystyle \\sqrt{0.543112180624329 u^{2} + 1} \\cdot \\left(\\frac{0.736961451247166 u \\sin{\\left(θ \\right)} \\cos{\\left(\\phi \\right)}}{\\sqrt{0.543112180624329 u^{2} + 1}} + \\frac{\\cos{\\left(θ \\right)}}{\\sqrt{0.543112180624329 u^{2} + 1}}\\right)$"
      ],
      "text/plain": [
       "   __________________________                                                 \n",
       "  ╱                    2      ⎛0.736961451247166⋅u⋅sin(θ)⋅cos(\\phi)           \n",
       "╲╱  0.543112180624329⋅u  + 1 ⋅⎜──────────────────────────────────── + ────────\n",
       "                              ⎜      __________________________          _____\n",
       "                              ⎜     ╱                    2              ╱     \n",
       "                              ⎝   ╲╱  0.543112180624329⋅u  + 1        ╲╱  0.54\n",
       "\n",
       "                      \n",
       "    cos(θ)           ⎞\n",
       "─────────────────────⎟\n",
       "_____________________⎟\n",
       "               2     ⎟\n",
       "3112180624329⋅u  + 1 ⎠"
      ]
     },
     "metadata": {},
     "output_type": "display_data"
    }
   ],
   "source": [
    "in_func = inner*r_jacc_alt\n",
    "display(in_func)"
   ]
  },
  {
   "cell_type": "code",
   "execution_count": 83,
   "metadata": {},
   "outputs": [
    {
     "data": {
      "image/png": "[encoded data removed]",
      "text/latex": [
       "$\\displaystyle \\int\\limits_{-1.685}^{1.685}\\int\\limits_{-0.84}^{0.84} \\sqrt{0.543112180624329 u^{2} + 1} \\cdot \\left(\\frac{0.736961451247166 u \\sin{\\left(θ \\right)} \\cos{\\left(\\phi \\right)}}{\\sqrt{0.543112180624329 u^{2} + 1}} + \\frac{\\cos{\\left(θ \\right)}}{\\sqrt{0.543112180624329 u^{2} + 1}}\\right)\\, du\\, dv$"
      ],
      "text/plain": [
       "1.685   0.84                                                                  \n",
       "  ⌠      ⌠                                                                    \n",
       "  ⎮      ⎮      __________________________                                    \n",
       "  ⎮      ⎮     ╱                    2      ⎛0.736961451247166⋅u⋅sin(θ)⋅cos(\\ph\n",
       "  ⎮      ⎮   ╲╱  0.543112180624329⋅u  + 1 ⋅⎜──────────────────────────────────\n",
       "  ⎮      ⎮                                 ⎜      __________________________  \n",
       "  ⎮      ⎮                                 ⎜     ╱                    2       \n",
       "  ⎮      ⎮                                 ⎝   ╲╱  0.543112180624329⋅u  + 1   \n",
       "  ⌡      ⌡                                                                    \n",
       "-1.685 -0.84                                                                  \n",
       "\n",
       "                                         \n",
       "                                         \n",
       "                                         \n",
       "i)               cos(θ)           ⎞      \n",
       "── + ─────────────────────────────⎟ du dv\n",
       "        __________________________⎟      \n",
       "       ╱                    2     ⎟      \n",
       "     ╲╱  0.543112180624329⋅u  + 1 ⎠      \n",
       "                                         \n",
       "                                         "
      ]
     },
     "metadata": {},
     "output_type": "display_data"
    },
    {
     "data": {
      "image/png": "[encoded data removed]",
      "text/latex": [
       "$\\displaystyle \\sqrt{0.543112180624329 u^{2} + 1} \\cdot \\left(\\frac{0.736961451247166 u \\sin{\\left(θ \\right)} \\cos{\\left(\\phi \\right)}}{\\sqrt{0.543112180624329 u^{2} + 1}} + \\frac{\\cos{\\left(θ \\right)}}{\\sqrt{0.543112180624329 u^{2} + 1}}\\right)$"
      ],
      "text/plain": [
       "   __________________________                                                 \n",
       "  ╱                    2      ⎛0.736961451247166⋅u⋅sin(θ)⋅cos(\\phi)           \n",
       "╲╱  0.543112180624329⋅u  + 1 ⋅⎜──────────────────────────────────── + ────────\n",
       "                              ⎜      __________________________          _____\n",
       "                              ⎜     ╱                    2              ╱     \n",
       "                              ⎝   ╲╱  0.543112180624329⋅u  + 1        ╲╱  0.54\n",
       "\n",
       "                      \n",
       "    cos(θ)           ⎞\n",
       "─────────────────────⎟\n",
       "_____________________⎟\n",
       "               2     ⎟\n",
       "3112180624329⋅u  + 1 ⎠"
      ]
     },
     "metadata": {},
     "output_type": "display_data"
    }
   ],
   "source": [
    "integral = Integral(in_func, (u, -1.68/2, 1.68/2),(v,-3.37/2,3.37/2))\n",
    "display(integral, in_func)\n"
   ]
  },
  {
   "cell_type": "code",
   "execution_count": 84,
   "metadata": {},
   "outputs": [
    {
     "data": {
      "image/png": "[encoded data removed]",
      "text/latex": [
       "$\\displaystyle 5.6616 \\cos{\\left(θ \\right)}$"
      ],
      "text/plain": [
       "5.6616⋅cos(θ)"
      ]
     },
     "execution_count": 84,
     "metadata": {},
     "output_type": "execute_result"
    }
   ],
   "source": [
    "integral = integrate(in_func, (u, -1.68/2, 1.68/2),(v,-3.37/2,3.37/2))\n",
    "integral"
   ]
  },
  {
   "cell_type": "markdown",
   "metadata": {},
   "source": [
    "# Effekt beregnelse"
   ]
  },
  {
   "cell_type": "code",
   "execution_count": 85,
   "metadata": {},
   "outputs": [
    {
     "data": {
      "image/png": "[encoded data removed]",
      "text/latex": [
       "$\\displaystyle 441.309523809524 \\cos{\\left(θ \\right)}$"
      ],
      "text/plain": [
       "441.309523809524⋅cos(θ)"
      ]
     },
     "metadata": {},
     "output_type": "display_data"
    }
   ],
   "source": [
    "S0=1100\n",
    "A= 0.5\n",
    "S0A=S0*A\n",
    "maxEffect = 250\n",
    "maxEffectPrArea =  maxEffect/(0.98*1.8)\n",
    "maxFlux=1000\n",
    "EprF= maxEffectPrArea/maxFlux#effect per flux\n",
    "expression = EprF*S0A *integral\n",
    "display(expression)\n"
   ]
  },
  {
   "cell_type": "code",
   "execution_count": 86,
   "metadata": {},
   "outputs": [],
   "source": [
    "import pandas as pd\n",
    "import numpy as np\n",
    "import pvlib\n",
    "from pvlib.location import Location\n",
    "import sympy as sm\n",
    "from scipy import integrate\n",
    "\n"
   ]
  },
  {
   "cell_type": "code",
   "execution_count": 87,
   "metadata": {},
   "outputs": [],
   "source": [
    "tidszone = \"Europe/Copenhagen\"\n",
    "start_dato = \"2024-01-01\"\n",
    "slut_dato = \"2024-12-31\"\n",
    "delta_tid = \"H\"  # \"Min\", \"H\",\n",
    "\n",
    "valgt_dato = \"2024-04-20\"\n",
    "\n",
    "# Definition of Location object. Coordinates and elevation of Amager, Copenhagen (Denmark)\n",
    "site = Location(\n",
    "    55.7873055556, 12.5270555556, tidszone, 10, \"DTU (DK)\"\n",
    ")  # latitude, longitude, time_zone, altitude, name\n",
    "\n",
    "# Definition of a time range of simulation\n",
    "times = pd.date_range(\n",
    "    start_dato + \" 00:00:00\", slut_dato + \" 23:59:00\", inclusive=\"left\", freq=delta_tid, tz=tidszone\n",
    ")\n",
    "# Estimate Solar Position with the 'Location' object\n",
    "solpos = site.get_solarposition(times)"
   ]
  },
  {
   "cell_type": "markdown",
   "metadata": {},
   "source": [
    "## Energy production entire year (2024)"
   ]
  },
  {
   "cell_type": "code",
   "execution_count": 88,
   "metadata": {},
   "outputs": [
    {
     "data": {
      "image/png": "[encoded data removed]",
      "text/latex": [
       "$\\displaystyle 670.97328553468$"
      ],
      "text/plain": [
       "670.973285534680"
      ]
     },
     "execution_count": 88,
     "metadata": {},
     "output_type": "execute_result"
    }
   ],
   "source": [
    "zenithAngs = np.deg2rad(np.array(solpos.loc[start_dato:slut_dato].apparent_zenith))\n",
    "azimuthAngs = np.deg2rad(np.array(solpos.loc[start_dato:slut_dato].azimuth))\n",
    "\n",
    "effectList = []\n",
    "\n",
    "for i in range (len(zenithAngs)):\n",
    "    if(not (zenithAngs[i]<0 or zenithAngs[i]>2*np.pi)):\n",
    "        effect = expression.subs({θ:zenithAngs[i],p:azimuthAngs[i]})\n",
    "        if (effect<0):\n",
    "            effectList.append(0)\n",
    "        elif (effect>maxEffect):\n",
    "            effectList.append(maxEffect)\n",
    "        else:\n",
    "         effectList.append(effect)\n",
    "\n",
    "output = (integrate.simpson(effectList,dx = 3600))/3600000\n",
    "\n",
    "output"
   ]
  },
  {
   "cell_type": "markdown",
   "metadata": {},
   "source": [
    "### area of film"
   ]
  },
  {
   "cell_type": "code",
   "execution_count": 93,
   "metadata": {},
   "outputs": [
    {
     "data": {
      "image/png": "[encoded data removed]",
      "text/latex": [
       "$\\displaystyle 6.00482888809863$"
      ],
      "text/plain": [
       "6.00482888809863"
      ]
     },
     "execution_count": 93,
     "metadata": {},
     "output_type": "execute_result"
    }
   ],
   "source": [
    "sm.integrate(r_jacc_alt, (u, -1.68/2, 1.68/2),(v,-3.37/2,3.37/2)).simplify()"
   ]
  },
  {
   "cell_type": "code",
   "execution_count": null,
   "metadata": {},
   "outputs": [],
   "source": []
  }
 ],
 "metadata": {
  "kernelspec": {
   "display_name": "Python 3",
   "language": "python",
   "name": "python3"
  },
  "language_info": {
   "codemirror_mode": {
    "name": "ipython",
    "version": 3
   },
   "file_extension": ".py",
   "mimetype": "text/x-python",
   "name": "python",
   "nbconvert_exporter": "python",
   "pygments_lexer": "ipython3",
   "version": "3.9.5"
  }
 },
 "nbformat": 4,
 "nbformat_minor": 2
}
