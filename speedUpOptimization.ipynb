{
 "cells": [
  {
   "cell_type": "code",
   "execution_count": 659,
   "metadata": {},
   "outputs": [],
   "source": [
    "import pandas as pd\n",
    "import numpy as np\n",
    "import pvlib\n",
    "from pvlib.location import Location\n",
    "import sympy as sm\n",
    "import matplotlib.dates as mdates\n",
    "\n",
    "from scipy import integrate\n",
    "\n",
    "def inner(x1: sm.Matrix,x2: sm.Matrix):\n",
    "    '''\n",
    "    Computes the inner product of two vectors of same length.\n",
    "    '''\n",
    "\n",
    "    return x1.dot(x2, conjugate_convention = 'right')\n",
    "\n",
    "#generation of date strings for all dates in year 2024\n",
    "dateList= []\n",
    "daysInMonth=[31,29,31,30,31,30,31,31,30,31,30,31]\n",
    "#create list of all days\n",
    "for i in range (12): #months\n",
    "    for j in range (1,daysInMonth[i]+1):\n",
    "        date = \"2024-\"\n",
    "        date=date+\"0\"+str(i+1)+\"-\" if i+1<10 else date+str(i+1)+\"-\"#add month\n",
    "        date = date +\"0\"+str(j) if (j<10) else date+str(j)        \n",
    "        dateList.append(date)\n",
    "\n",
    "sm.MutableDenseMatrix.inner = inner\n",
    "sm.ImmutableDenseMatrix.inner = inner\n",
    "L = 1.755\n",
    "B = 1.038\n",
    "maxFlux = 1000\n",
    "maxEffect = 365/(L*B)\n",
    "A = 0.5\n",
    "S0 = 1100\n",
    "S0A = S0 * A\n",
    "effectPerFlux = maxEffect/maxFlux"
   ]
  },
  {
   "cell_type": "code",
   "execution_count": 660,
   "metadata": {},
   "outputs": [],
   "source": [
    "def solar_elevation_angledeg(angle):\n",
    "    return 90-angle"
   ]
  },
  {
   "cell_type": "markdown",
   "metadata": {},
   "source": [
    "## Funktion til liste af værdier i interval"
   ]
  },
  {
   "cell_type": "code",
   "execution_count": 661,
   "metadata": {},
   "outputs": [],
   "source": [
    "def inInterval(list,min,max):\n",
    "    out = list[list>min]\n",
    "    out = out[out<max]\n",
    "    return out"
   ]
  },
  {
   "cell_type": "markdown",
   "metadata": {},
   "source": [
    "## Funktion til index i interval"
   ]
  },
  {
   "cell_type": "code",
   "execution_count": 662,
   "metadata": {},
   "outputs": [],
   "source": [
    "def IndexInInterval(list,lower,upper):\n",
    "    list= np.array(list)\n",
    "    t=np.arange(len(list))\n",
    "    t=t[list[t]>=lower]\n",
    "    t=t[list[t]<=upper]\n",
    "    return t\n",
    "    "
   ]
  },
  {
   "cell_type": "markdown",
   "metadata": {},
   "source": [
    "## Bestemmelse af nulpunkter"
   ]
  },
  {
   "cell_type": "code",
   "execution_count": 663,
   "metadata": {},
   "outputs": [
    {
     "data": {
      "text/plain": [
       "array([2, 5])"
      ]
     },
     "metadata": {},
     "output_type": "display_data"
    }
   ],
   "source": [
    "#return i, where list[i] has one sign, list[i+1] has another\n",
    "def signChange(list): #return index in list\n",
    "    signList=np.sign(list)\n",
    "    diffList=np.diff(signList)\n",
    "    switch=np.where(diffList != 0, 1,0)   \n",
    "    indices = np.arange(len(switch))\n",
    "    indices = indices[switch==1]\n",
    "    \n",
    "    return indices\n",
    "def signChangeFunc(inputParameter, list): #return input value\n",
    "    signList=np.sign(list)\n",
    "    diffList=np.diff(signList)\n",
    "    switch=np.where(diffList != 0, 1,0)   \n",
    "    indices = np.arange(len(switch))\n",
    "    indices = indices[switch==1]\n",
    "    return inputParameter[indices]\n",
    "\n",
    "testArray =np.array([3, 0.5, 0.1,-0.5, -1, -0.5, 0.5, 2])\n",
    "\n",
    "display(signChange(testArray))\n",
    "#note zero indexing"
   ]
  },
  {
   "cell_type": "code",
   "execution_count": 664,
   "metadata": {},
   "outputs": [
    {
     "data": {
      "text/plain": [
       "array([1.56607922, 4.71081661])"
      ]
     },
     "metadata": {},
     "output_type": "display_data"
    },
    {
     "data": {
      "text/plain": [
       "array([1.56607922, 4.71081661])"
      ]
     },
     "metadata": {},
     "output_type": "display_data"
    },
    {
     "data": {
      "text/latex": [
       "$\\displaystyle 0.498498498498498 \\pi$"
      ],
      "text/plain": [
       "0.498498498498498*pi"
      ]
     },
     "metadata": {},
     "output_type": "display_data"
    },
    {
     "data": {
      "text/latex": [
       "$\\displaystyle 1.4994994994995 \\pi$"
      ],
      "text/plain": [
       "1.4994994994995*pi"
      ]
     },
     "metadata": {},
     "output_type": "display_data"
    }
   ],
   "source": [
    "#test on function\n",
    "t = np.linspace(0, 2 * np.pi, 1000)\n",
    "f = np.cos(t)\n",
    "display(t[signChange(f)])\n",
    "display(signChangeFunc(t,f))\n",
    "\n",
    "list = t[signChange(f)]\n",
    "for i in list:\n",
    "    display(i/np.pi * sm.symbols('pi'))\n",
    "    \n"
   ]
  },
  {
   "cell_type": "markdown",
   "metadata": {},
   "source": [
    "Som kan ses, er det $\\frac{\\pi}{2}$ og $\\frac{3\\cdot \\pi}{2}$, som passer med cosinus"
   ]
  },
  {
   "cell_type": "markdown",
   "metadata": {},
   "source": [
    "## Sfæriske koordinater til kartesiske"
   ]
  },
  {
   "cell_type": "code",
   "execution_count": 665,
   "metadata": {},
   "outputs": [
    {
     "data": {
      "text/plain": [
       "[array([0., 0., 1.]),\n",
       " array([1.000000e+00, 0.000000e+00, 6.123234e-17]),\n",
       " array([-1.22464680e-16,  1.49975978e-32, -1.00000000e+00]),\n",
       " array([-1.0000000e+00,  1.2246468e-16,  6.1232340e-17])]"
      ]
     },
     "metadata": {},
     "output_type": "display_data"
    },
    {
     "name": "stdout",
     "output_type": "stream",
     "text": [
      "True\n",
      "True\n",
      "True\n",
      "True\n",
      "True\n",
      "True\n",
      "True\n",
      "True\n",
      "True\n",
      "True\n",
      "True\n",
      "True\n"
     ]
    }
   ],
   "source": [
    "# takes list of zenith, and azimuth angles, in radians and distance in meters\n",
    "def angleToKar(zenith, azimuth, d):\n",
    "    zenith= np.array(zenith)\n",
    "    azimuth= np.array(azimuth)\n",
    "    d =  np.array(d)\n",
    "    index = np.arange(len(zenith))  #list of indexes in angle lists\n",
    "    x_results = d[index]*np.sin(zenith[index])*np.cos(azimuth[index]) #generate list of all x-coordinates\n",
    "    y_results = d[index]*np.sin(zenith[index])*np.sin(azimuth[index]) #generate list of all y-coordinates\n",
    "    z_results = d[index]*np.cos(zenith[index])                        #generate list of all z-coordinates\n",
    "    if(len(x_results)==1): #if only one input, return vector\n",
    "        return np.array([x_results[0],y_results[0],z_results[0]])\n",
    "    else: \n",
    "        results=[]\n",
    "        for i in range (len(x_results)): \n",
    "           results.append(np.array([x_results[i],y_results[i],z_results[i]])) #set of x,y,z coordinates\n",
    "        return results\n",
    "\n",
    "#test\n",
    "list=angleToKar([0,np.pi/2,np.pi,np.pi/2],[np.pi/2,0,np.pi,np.pi],[1,1,1,1])\n",
    "display(list)\n",
    "expectedList=[[0,0,1],[1,0,0],[0,0,-1],[-1,0,0]]\n",
    "for i in range (len(list)):\n",
    "    for j in range (len(list[i])):\n",
    "        print (np.allclose(list[i][j],expectedList[i][j],0.0001,0.0001)) #\n",
    "    "
   ]
  },
  {
   "cell_type": "markdown",
   "metadata": {},
   "source": [
    "## Kartesiske koordinater til sfæriske\n"
   ]
  },
  {
   "cell_type": "code",
   "execution_count": 666,
   "metadata": {},
   "outputs": [
    {
     "data": {
      "text/plain": [
       "[0, 0]"
      ]
     },
     "execution_count": 666,
     "metadata": {},
     "output_type": "execute_result"
    }
   ],
   "source": [
    "def karToAngle(coordinates,d): #takes list of zenith, and azimuth angles, in radians and distance in meters\n",
    "    theta_s = np.rad2deg(np.arccos((coordinates[2])/(d))) \n",
    "    if (theta_s==0): #phi_s can be any angle in this scenario.\n",
    "        return([0,0])\n",
    "    else:\n",
    "        phi_s= np.rad2deg(np.arccos((coordinates[0])/(((d) * np.sin(theta_s))))) \n",
    "        if  np.isnan(phi_s):\n",
    "            phi_s = np.rad2deg(\n",
    "                np.arcsin((coordinates[1])/(((d) * np.sin(theta_s)))))\n",
    "\n",
    "\n",
    "        return np.array([theta_s,phi_s])\n",
    "    \n",
    "testList = [0,0,1]#,[0,0],[np.pi/2,np.pi/2]]\n",
    "karToAngle(testList,1)"
   ]
  },
  {
   "cell_type": "markdown",
   "metadata": {},
   "source": [
    "## Metoder\n"
   ]
  },
  {
   "cell_type": "code",
   "execution_count": 667,
   "metadata": {},
   "outputs": [],
   "source": [
    "def solar_panel_projection(θ_s, ϕ_s, θ_p, ϕ_p):\n",
    "    results = np.zeros(len(θ_s))\n",
    "    for i in range(0,len(θ_s)):\n",
    "        us = [-np.sin(θ_s[i]) * np.cos(ϕ_s[i]),-np.sin(θ_s[i]) * np.sin(ϕ_s[i]), -np.cos(θ_s[i])]\n",
    "        up = [-np.sin(θ_p[i]) * np.cos(ϕ_p[i]), -np.sin(ϕ_p[i])*np.sin(θ_p[i]), -np.cos(θ_p[i])]\n",
    "        inprod = (np.inner(us,up))\n",
    "        results[i]=inprod\n",
    "    results=results[results>0]\n",
    "    return results\n",
    "\n"
   ]
  },
  {
   "cell_type": "code",
   "execution_count": 668,
   "metadata": {},
   "outputs": [],
   "source": [
    "\n",
    "def kWhHour(zenithangs,azimuthangs, theta_p, phi_p):\n",
    "    indexOfInterest=IndexInInterval(zenithangs,0,np.pi/2)\n",
    "    zenithangs=zenithangs[indexOfInterest]\n",
    "    azimuthangs=azimuthangs[indexOfInterest]\n",
    "    \n",
    "    theta_list= np.full(len(zenithangs),theta_p)\n",
    "    phi_list=np.full(len(zenithangs),phi_p)\n",
    "    \n",
    "    projList =  solar_panel_projection(zenithangs,azimuthangs,theta_list,phi_list)\n",
    "    projList =  projList*effectPerFlux*S0A\n",
    "    projList[projList>maxEffect]=maxEffect    \n",
    "    return ((integrate.simpson(projList,dx = 3600))*L*B)/3600000\n",
    "\n",
    "def kWhMin(zenithangs,azimuthangs, theta_p, phi_p):\n",
    "    indexOfInterest=IndexInInterval(zenithangs,0,np.pi/2)\n",
    "    zenithangs=zenithangs[indexOfInterest]\n",
    "    azimuthangs=azimuthangs[indexOfInterest]\n",
    "    \n",
    "    theta_list= np.full(len(zenithangs),theta_p)\n",
    "    phi_list=np.full(len(zenithangs),phi_p)\n",
    "    \n",
    "    projList =  solar_panel_projection(zenithangs,azimuthangs,theta_list,phi_list)\n",
    "    projList =  projList*effectPerFlux*S0A\n",
    "    projList[projList>maxEffect]=maxEffect    \n",
    "    return ((integrate.simpson(projList,dx = 60))*L*B)/3600000\n",
    "\n",
    "\n"
   ]
  },
  {
   "cell_type": "markdown",
   "metadata": {},
   "source": [
    "# Flux hver minut for en dag"
   ]
  },
  {
   "cell_type": "code",
   "execution_count": 669,
   "metadata": {},
   "outputs": [],
   "source": [
    "tidszone = \"Europe/Copenhagen\"\n",
    "start_dato = \"2024-04-01\"\n",
    "slut_dato = \"2024-04-30\"\n",
    "delta_tid = \"Min\"  # \"Min\", \"H\",\n",
    "S0=1100 #irradiance\n",
    "A=0.5 #reduction\n",
    "valgt_dato = \"2024-04-20\"\n",
    "\n",
    "# Definition of Location object. Coordinates and elevation of Amager, Copenhagen (Denmark)\n",
    "site = Location(\n",
    "    55.7861111111, 12.5230555556, tidszone, 10, \"DTU (DK)\"\n",
    ")  # latitude, longitude, time_zone, altitude, name\n",
    "\n",
    "# Definition of a time range of simulation\n",
    "times = pd.date_range(\n",
    "    start_dato + \" 00:00:00\", slut_dato + \" 23:59:00\", inclusive=\"left\", freq=delta_tid, tz=tidszone\n",
    ")\n",
    "# Estimate Solar Position with the 'Location' object\n",
    "solpos = site.get_solarposition(times)\n",
    "\n",
    "results = []\n",
    "zenithangs = np.deg2rad(np.array(solpos.loc[valgt_dato].apparent_zenith))\n",
    "azimuthangs = np.deg2rad(np.array(solpos.loc[valgt_dato].azimuth))\n",
    "\n",
    "def FluxForEachMinute(zenithAngs, azimuthAngs, theta_p, phi_p):\n",
    "    t = np.arange(len(zenithangs))\n",
    "    indexOfInterest = t[zenithangs[t] > 0]\n",
    "    indexOfInterest = indexOfInterest[zenithangs[indexOfInterest] < np.pi/2]\n",
    "    zenithangs = zenithangs[indexOfInterest]\n",
    "    azimuthangs = azimuthangs[indexOfInterest]\n",
    "    theta_list = np.full(len(zenithangs), theta_p)\n",
    "    phi_list = np.full(len(zenithangs), phi_p)\n",
    "    projList = solar_panel_projection(\n",
    "        zenithangs, azimuthangs, theta_list, phi_list) * S0*A\n",
    "    return projList"
   ]
  },
  {
   "cell_type": "markdown",
   "metadata": {},
   "source": [
    "## For én dag (20. April 2024)"
   ]
  },
  {
   "cell_type": "code",
   "execution_count": 670,
   "metadata": {},
   "outputs": [],
   "source": [
    "tidszone = \"Europe/Copenhagen\"\n",
    "start_dato = \"2024-04-01\"\n",
    "slut_dato = \"2024-04-30\"\n",
    "delta_tid = \"Min\"  # \"Min\", \"H\",\n",
    "\n",
    "valgt_dato = \"2024-04-20\"\n",
    "\n",
    "# Definition of Location object. Coordinates and elevation of Amager, Copenhagen (Denmark)\n",
    "site = Location(\n",
    "    55.7861111111, 12.5230555556, tidszone, 10, \"DTU (DK)\"\n",
    ")  # latitude, longitude, time_zone, altitude, name\n",
    "\n",
    "# Definition of a time range of simulation\n",
    "times = pd.date_range(\n",
    "    start_dato + \" 00:00:00\", slut_dato + \" 23:59:00\", inclusive=\"left\", freq=delta_tid, tz=tidszone\n",
    ")\n",
    "# Estimate Solar Position with the 'Location' object\n",
    "solpos = site.get_solarposition(times)"
   ]
  },
  {
   "cell_type": "code",
   "execution_count": 671,
   "metadata": {},
   "outputs": [
    {
     "name": "stdout",
     "output_type": "stream",
     "text": [
      "1.2933367807002514\n",
      "1.3078597165295913\n",
      "1.3221265224093355\n",
      "1.3361153083467254\n",
      "1.3498063858409348\n",
      "1.3631859738264187\n",
      "1.37624151177084\n",
      "1.3889657490668754\n",
      "1.4013415498304207\n",
      "1.4133671769605274\n",
      "1.4250298694354655\n",
      "1.436327386297881\n",
      "1.4472485316819252\n",
      "1.4577806106719846\n",
      "1.4679250630099416\n",
      "1.477676794166191\n",
      "1.4870185416643003\n",
      "1.495966930729994\n",
      "1.5044945505337342\n",
      "1.512610728829934\n",
      "1.5203094776873696\n",
      "1.527570714521443\n",
      "1.5344195981910154\n",
      "1.540835447636449\n",
      "1.5468154706988038\n",
      "1.552357027114309\n",
      "1.5574529185210249\n",
      "1.562106984057799\n",
      "1.5663213412827046\n",
      "1.5700877310652752\n",
      "1.573404307800423\n",
      "1.5762693855480634\n",
      "1.5786814390997448\n",
      "1.5806391049336357\n",
      "1.5821411820568654\n",
      "1.5831866328776778\n",
      "1.5837745839118833\n",
      "1.5839043265134851\n",
      "1.5835753174431404\n",
      "1.5827871794608268\n",
      "1.5815397017545527\n",
      "1.5798410085830634\n",
      "1.5776763973251675\n",
      "1.5750529387998802\n",
      "1.5719784040220566\n",
      "1.5684404036683455\n",
      "1.564445503389882\n",
      "1.5599946459686453\n",
      "1.5550889418069171\n",
      "1.5497386818733405\n",
      "1.5439294799504828\n",
      "1.5376698170440857\n",
      "1.5309698647930454\n",
      "1.5238168828453493\n",
      "1.5162192690842795\n",
      "1.50818777828438\n",
      "1.499710184085336\n",
      "1.4907952146092556\n",
      "1.4814527334102277\n",
      "1.4716735314758544\n",
      "1.461465620998557\n",
      "1.4508403814517523\n",
      "1.4397870560987558\n",
      "1.4283150719398001\n",
      "1.416428103086812\n",
      "1.404137121680545\n",
      "1.3914336138619332\n",
      "1.3783269803834632\n",
      "1.3648297026364122\n",
      "1.3509314755546293\n",
      "1.336643287466065\n",
      "1.3219698521386245\n",
      "1.306916028280626\n",
      "1.2914868177084444\n",
      "1.2756873635498538\n",
      "1.2595229482848025\n",
      "1.2430059290253277\n",
      "1.22612836549706\n",
      "1.208902319853858\n",
      "1.191333603418962\n",
      "1.173428156570092\n",
      "1.155192046419309\n",
      "1.136625188831115\n",
      "1.1177473001650715\n",
      "1.098557919125842\n",
      "1.07906360353419\n",
      "1.059271025607668\n",
      "1.0391869694040592\n",
      "1.018818328123828\n",
      "0.9981721014511391\n",
      "0.9772468450218651\n",
      "Energy Production is: 1.5839043265134851 Angle is: 53 Degrees from horizon\n"
     ]
    }
   ],
   "source": [
    "results = []\n",
    "zenithangs = np.deg2rad(np.array(solpos.loc[valgt_dato].apparent_zenith))\n",
    "azimuthangs = np.deg2rad(np.array(solpos.loc[valgt_dato].azimuth))\n",
    "# Azimuth vinkel for panelet\n",
    "phi_p = 180\n",
    "\n",
    "#Der itereres over panelets zenith vinkler fra 0 til 90\n",
    "for i in range(0,91):\n",
    "    theta_p = i\n",
    " # Effekten for dag ved en given zenith vinkel for panelet beregnes\n",
    "    energy = kWhMin(zenithangs,azimuthangs, np.deg2rad(theta_p), np.deg2rad(phi_p))\n",
    "    results.append(energy)\n",
    "# Finder maks effekt og tilsvarende vinkel\n",
    "\n",
    "max = 0\n",
    "angle = -1\n",
    "for i in range(0,len(results)):\n",
    "    print(results[i])\n",
    "    if(results[i] > max):\n",
    "        max = results[i]\n",
    "        angle = i\n",
    "print(\"Energy Production is:\",max,\n",
    "\"Angle is:\",solar_elevation_angledeg(angle),\"Degrees from horizon\",)\n",
    "\n",
    "display()"
   ]
  },
  {
   "cell_type": "markdown",
   "metadata": {},
   "source": [
    "## For et år"
   ]
  },
  {
   "cell_type": "code",
   "execution_count": 672,
   "metadata": {},
   "outputs": [
    {
     "name": "stdout",
     "output_type": "stream",
     "text": [
      "337.82509064147666\n",
      "343.9330808487314\n",
      "349.9711957781455\n",
      "356.01884514713254\n",
      "362.0814168437266\n",
      "367.713956531926\n",
      "373.4153921310897\n",
      "379.3444834483196\n",
      "384.86261077504065\n",
      "390.8097099572764\n",
      "396.3456123325702\n",
      "401.582389325118\n",
      "407.0936468549035\n",
      "412.03208601099635\n",
      "417.1598671044049\n",
      "422.0658863731435\n",
      "427.09547167788566\n",
      "431.6287771539241\n",
      "436.4366250739413\n",
      "440.6867779680704\n",
      "444.9277317377383\n",
      "449.1041798769369\n",
      "454.08362293503274\n",
      "458.0010628310881\n",
      "461.2980987144679\n",
      "465.64989369511517\n",
      "468.9190056823618\n",
      "472.9111639615116\n",
      "475.8843683563681\n",
      "479.33509444279645\n",
      "482.20191675657384\n",
      "485.46750479620795\n",
      "488.1772319136651\n",
      "491.0858866918508\n",
      "493.6776700461101\n",
      "495.9077237651038\n",
      "498.41322365700717\n",
      "500.2955762686786\n",
      "502.2566087564733\n",
      "504.05486789269486\n",
      "506.14077311321427\n",
      "507.1871837404174\n",
      "508.5281117342876\n",
      "510.4087423427366\n",
      "511.5363891686873\n",
      "512.5080410672047\n",
      "513.3443006388034\n",
      "513.1169686342614\n",
      "513.607642476924\n",
      "515.0018328794681\n",
      "515.2865388563033\n",
      "515.4743849494683\n",
      "515.5818962388123\n",
      "515.3885514407692\n",
      "515.0382142972761\n",
      "514.530991524421\n",
      "513.8670376271737\n",
      "513.0465548523237\n",
      "512.0697931268719\n",
      "510.93704998190225\n",
      "509.6486704619498\n",
      "506.82272585282186\n",
      "505.2878797641682\n",
      "503.61446029649045\n",
      "502.7548267380472\n",
      "499.8539804006424\n",
      "498.5942019020601\n",
      "495.5252412778413\n",
      "493.87400101223244\n",
      "490.64251120871404\n",
      "487.99304565823564\n",
      "485.736667794017\n",
      "482.2785679864329\n",
      "479.201712651396\n",
      "476.33615393245276\n",
      "472.5991830360629\n",
      "469.38361394770004\n",
      "465.4159781765381\n",
      "461.87404269453157\n",
      "457.90956635213865\n",
      "453.80614237935254\n",
      "449.5542156928837\n",
      "445.1163837361858\n",
      "440.6195231062327\n",
      "436.20452892190394\n",
      "431.74510157958207\n",
      "426.264528319996\n",
      "421.3128881114586\n",
      "416.24206630038054\n",
      "411.69520451631666\n",
      "405.92075260359644\n",
      "Energy Production is: 515.5818962388123 Angle is: 38 Degrees from horizon and  52 from vertical\n"
     ]
    }
   ],
   "source": [
    "tidszone = \"Europe/Copenhagen\"\n",
    "start_dato = \"2024-01-01\"\n",
    "slut_dato = \"2024-12-31\"\n",
    "delta_tid = \"H\" # \"Min\", \"H\",\n",
    "# Definition of Location object. Coordinates and elevation of DTU, Copenhagen (Denmark)\n",
    "site = Location(\n",
    "55.7861111111, 12.5230555556, tidszone, 10, \"DTU (DK)\"\n",
    ") # latitude, longitude, time_zone, altitude, name\n",
    "# Definition of a time range of simulation\n",
    "times = pd.date_range(\n",
    "start_dato + \" 00:00:00\", slut_dato + \" 23:59:00\", inclusive=\"left\", freq=delta_tid, tz=tidszone\n",
    ")\n",
    "# Estimate Solar Position with the ’Location’ object\n",
    "solpos = site.get_solarposition(times)\n",
    "results = []\n",
    "#Lister af solens Zenith og Azimuth vinkler hver time over et  ̊ar\n",
    "zenithangs = np.deg2rad(np.array(solpos.loc[start_dato:slut_dato].apparent_zenith))\n",
    "azimuthangs = np.deg2rad(np.array(solpos.loc[start_dato:slut_dato].azimuth))\n",
    "# Azimuth vinkel for panelet\n",
    "phi_p = 180\n",
    "\n",
    "#Der itereres over panelets zenith vinkler fra 0 til 90\n",
    "\n",
    "for i in range(0,91):\n",
    "    theta_p = i \n",
    " # Effekten for et helt  ̊ar ved en given zenith vinkel for panelet beregnes\n",
    "    energyPrYear = kWhHour(zenithangs,azimuthangs, np.deg2rad(theta_p), np.deg2rad(phi_p))\n",
    "    results.append(energyPrYear)\n",
    "# Finder maks effekt og tilsvarende vinkel\n",
    "max = 0\n",
    "angle=-1\n",
    "for i in range(0,len(results)):\n",
    "    print(results[i])\n",
    "    if(results[i] > max):\n",
    "        max = results[i]\n",
    "        angle= i \n",
    "print(\"Energy Production is:\",max,\n",
    "\"Angle is:\",solar_elevation_angledeg(angle),\"Degrees from horizon\", \"and \", angle, \"from vertical\")"
   ]
  },
  {
   "cell_type": "markdown",
   "metadata": {},
   "source": [
    "## Parcel hus"
   ]
  },
  {
   "cell_type": "code",
   "execution_count": 673,
   "metadata": {},
   "outputs": [
    {
     "data": {
      "image/png": "[encoded data removed]",
      "text/plain": [
       "<Figure size 640x480 with 1 Axes>"
      ]
     },
     "metadata": {},
     "output_type": "display_data"
    }
   ],
   "source": [
    "amount = 25\n",
    "L = 1.755\n",
    "B = 1.038\n",
    "Area = L * B * amount # 25 paneler\n",
    "maxFlux = 1000\n",
    "maxEffect = 365\n",
    "A = 0.5\n",
    "S0 = 1100\n",
    "S0A = S0 * A\n",
    "effectPerFlux = maxEffect/maxFlux\n",
    "\n",
    "theta_p=52\n",
    "phi_p=180\n",
    "\n",
    "\n",
    "tidszone = \"Europe/Copenhagen\"\n",
    "start_dato = \"2024-01-01\"\n",
    "slut_dato = \"2024-12-31\"\n",
    "delta_tid = \"Min\"  # \"Min\", \"H\",\n",
    "\n",
    "# Definition of Location object. Coordinates and elevation of Amager, Copenhagen (Denmark)\n",
    "site = Location(\n",
    "    55.7861111111, 12.5230555556, tidszone, 10, \"DTU (DK)\"\n",
    ")  # latitude, longitude, time_zone, altitude, name\n",
    "\n",
    "# Definition of a time range of simulation\n",
    "times = pd.date_range(\n",
    "    start_dato + \" 00:00:00\", slut_dato + \" 23:59:00\", inclusive=\"left\", freq=delta_tid, tz=tidszone\n",
    ")\n",
    "# Estimate Solar Position with the 'Location' object\n",
    "solpos = site.get_solarposition(times)\n",
    "\n",
    "\n",
    "\n",
    "\n",
    "energyDayList=[] \n",
    "for i in range(len(dateList)):\n",
    "    zenithAngs = np.deg2rad(np.array(solpos.loc[dateList[i]].apparent_zenith))\n",
    "    azimuthAngs =np.deg2rad(np.array(solpos.loc[dateList[i]].azimuth))\n",
    "    energyDayList.append(25*kWhMin(zenithAngs,azimuthAngs, np.deg2rad(theta_p), np.deg2rad(phi_p)))\n",
    "    \n",
    "\n",
    "x_pos = np.arange(366)\n",
    "np.delete(x_pos,0)\n",
    "\n",
    "import matplotlib.pyplot as plt\n",
    "\n",
    "%matplotlib inline\n",
    "plt.bar(x_pos,energyDayList,\n",
    "        color='b',\n",
    "        #width=1, \n",
    "        \n",
    "        #edgecolor='b',\n",
    "        #linewidth=0.5,\n",
    "        )\n",
    "plt.title('Energi produktion for hver dag på et år (25 paneller)')\n",
    "plt.xlabel('Dag på år')\n",
    "plt.ylabel('kWh')\n",
    "plt.grid(axis='y')\n",
    "plt.grid(axis='x')"
   ]
  },
  {
   "cell_type": "markdown",
   "metadata": {},
   "source": [
    "Optimal $\\phi$ og $\\theta$ combo"
   ]
  },
  {
   "cell_type": "code",
   "execution_count": 674,
   "metadata": {},
   "outputs": [],
   "source": [
    "#tidszone = \"Europe/Copenhagen\"\n",
    "#start_dato = \"2024-01-01\"\n",
    "#slut_dato = \"2024-12-31\"\n",
    "#delta_tid = \"H\"  # \"Min\", \"H\",\n",
    "## Definition of Location object. Coordinates and elevation of DTU, Copenhagen (Denmark)\n",
    "#site = Location(\n",
    "#    55.7861111111, 12.5230555556, tidszone, 10, \"DTU (DK)\"\n",
    "#)  # latitude, longitude, time_zone, altitude, name\n",
    "## Definition of a time range of simulation\n",
    "#times = pd.date_range(\n",
    "#    start_dato + \" 00:00:00\", slut_dato + \" 23:59:00\", inclusive=\"left\", freq=delta_tid, tz=tidszone\n",
    "#)\n",
    "## Estimate Solar Position with the ’Location’ object\n",
    "#solpos = site.get_solarposition(times)\n",
    "#results = []\n",
    "## Lister af solens Zenith og Azimuth vinkler hver time over et  ̊ar\n",
    "#zenithangs = np.deg2rad(\n",
    "#    np.array(solpos.loc[start_dato:slut_dato].apparent_zenith))\n",
    "#azimuthangs = np.deg2rad(np.array(solpos.loc[start_dato:slut_dato].azimuth))\n",
    "## Azimuth vinkel for panelet\n",
    "#phi_p = 180\n",
    "#\n",
    "## Der itereres over panelets zenith vinkler fra 0 til 90\n",
    "#for p in range(0, 360):\n",
    "#    phi_p = p\n",
    "#    for i in range(0, 91):\n",
    "#        theta_p = i\n",
    "#     # Effekten for et helt  ̊ar ved en given zenith vinkel for panelet beregnes\n",
    "#        energyPrYear = kWhHour(zenithangs, azimuthangs,\n",
    "#                               np.deg2rad(theta_p), np.deg2rad(phi_p))\n",
    "#        results.append(energyPrYear)\n",
    "#    # Finder maks effekt og tilsvarende vinkel\n",
    "#max = 0\n",
    "#angle_p = -1\n",
    "#angle_t = -1\n",
    "#t= np.arange(len(results))\n",
    "#list=np.where(results[t]==results.max(),1,0)\n",
    "#angle_p=t[list[t]==1][0]//90\n",
    "#angle_t=t[list[t]==1][0]%360\n",
    "#print(\"Energy Production is:\", max,\n",
    "#\"Angle is:\", solar_elevation_angledeg(angle_t),\"Degrees from horizon and phi\",angle_p)"
   ]
  },
  {
   "cell_type": "markdown",
   "metadata": {},
   "source": [
    "## Krum overflade\n",
    "\n"
   ]
  },
  {
   "cell_type": "code",
   "execution_count": 675,
   "metadata": {},
   "outputs": [],
   "source": [
    "from sympy import *\n",
    "x, y ,z ,n, u, v, θ, p = symbols('x,y,z,n,u,v,θ,\\phi',real=true)"
   ]
  },
  {
   "cell_type": "code",
   "execution_count": 676,
   "metadata": {},
   "outputs": [],
   "source": [
    "andengrads_a = -0.26/(1.68**2/2**2)"
   ]
  },
  {
   "cell_type": "code",
   "execution_count": 677,
   "metadata": {},
   "outputs": [
    {
     "data": {
      "text/latex": [
       "$\\displaystyle \\left[\\begin{matrix}1\\\\0\\\\0\\end{matrix}\\right]$"
      ],
      "text/plain": [
       "Matrix([\n",
       "[1],\n",
       "[0],\n",
       "[0]])"
      ]
     },
     "metadata": {},
     "output_type": "display_data"
    },
    {
     "data": {
      "text/latex": [
       "$\\displaystyle \\left[\\begin{matrix}0\\\\1\\\\- 0.736961451247166 v\\end{matrix}\\right]$"
      ],
      "text/plain": [
       "Matrix([\n",
       "[                   0],\n",
       "[                   1],\n",
       "[-0.736961451247166*v]])"
      ]
     },
     "metadata": {},
     "output_type": "display_data"
    },
    {
     "data": {
      "text/latex": [
       "$\\displaystyle \\left[\\begin{matrix}0\\\\- 0.736961451247166 v\\\\-1\\end{matrix}\\right]$"
      ],
      "text/plain": [
       "Matrix([\n",
       "[                   0],\n",
       "[-0.736961451247166*v],\n",
       "[                  -1]])"
      ]
     },
     "execution_count": 677,
     "metadata": {},
     "output_type": "execute_result"
    }
   ],
   "source": [
    "r = Matrix([[u], [v], [andengrads_a*v**2 + 0.26]])\n",
    "r_u = r.diff(u)\n",
    "r_v = r.diff(v)\n",
    "display(r_u)\n",
    "display(r_v)\n",
    "product = r_v.cross(r_u)\n",
    "product"
   ]
  },
  {
   "cell_type": "code",
   "execution_count": 678,
   "metadata": {},
   "outputs": [
    {
     "data": {
      "text/plain": [
       "'jacobian matrix'"
      ]
     },
     "metadata": {},
     "output_type": "display_data"
    },
    {
     "data": {
      "text/latex": [
       "$\\displaystyle \\left[\\begin{matrix}1 & 0\\\\0 & 1\\\\0 & - 0.736961451247166 v\\end{matrix}\\right]$"
      ],
      "text/plain": [
       "Matrix([\n",
       "[1,                    0],\n",
       "[0,                    1],\n",
       "[0, -0.736961451247166*v]])"
      ]
     },
     "metadata": {},
     "output_type": "display_data"
    },
    {
     "data": {
      "text/plain": [
       "'area corrigation factor'"
      ]
     },
     "metadata": {},
     "output_type": "display_data"
    },
    {
     "data": {
      "text/latex": [
       "$\\displaystyle \\sqrt{0.543112180624329 v^{2} + 1}$"
      ],
      "text/plain": [
       "sqrt(0.543112180624329*v**2 + 1)"
      ]
     },
     "metadata": {},
     "output_type": "display_data"
    },
    {
     "data": {
      "text/plain": [
       "'inner product <sun,normal>'"
      ]
     },
     "metadata": {},
     "output_type": "display_data"
    },
    {
     "data": {
      "text/latex": [
       "$\\displaystyle \\frac{0.736961451247166 v \\sin{\\left(\\phi \\right)} \\sin{\\left(θ \\right)}}{\\sqrt{0.543112180624329 v^{2} + 1}} + \\frac{\\cos{\\left(θ \\right)}}{\\sqrt{0.543112180624329 v^{2} + 1}}$"
      ],
      "text/plain": [
       "0.736961451247166*v*sin(\\phi)*sin(θ)/sqrt(0.543112180624329*v**2 + 1) + cos(θ)/sqrt(0.543112180624329*v**2 + 1)"
      ]
     },
     "metadata": {},
     "output_type": "display_data"
    },
    {
     "data": {
      "text/plain": [
       "'function in integral'"
      ]
     },
     "metadata": {},
     "output_type": "display_data"
    },
    {
     "data": {
      "text/latex": [
       "$\\displaystyle \\sqrt{0.543112180624329 v^{2} + 1} \\cdot \\left(\\frac{0.736961451247166 v \\sin{\\left(\\phi \\right)} \\sin{\\left(θ \\right)}}{\\sqrt{0.543112180624329 v^{2} + 1}} + \\frac{\\cos{\\left(θ \\right)}}{\\sqrt{0.543112180624329 v^{2} + 1}}\\right)$"
      ],
      "text/plain": [
       "sqrt(0.543112180624329*v**2 + 1)*(0.736961451247166*v*sin(\\phi)*sin(θ)/sqrt(0.543112180624329*v**2 + 1) + cos(θ)/sqrt(0.543112180624329*v**2 + 1))"
      ]
     },
     "metadata": {},
     "output_type": "display_data"
    }
   ],
   "source": [
    "r_jacc = r.jacobian([u, v])\n",
    "display(\"jacobian matrix\",r_jacc)\n",
    "r_jacc_alt = sqrt(det(r_jacc.T * r_jacc))\n",
    "display(\"area corrigation factor\", r_jacc_alt)\n",
    "V_s = Matrix([[-sin(θ)*cos(p)], [-sin(θ)*sin(p)], [-cos(θ)]])\n",
    "inner = inner(V_s, product.normalized())\n",
    "display(\"inner product <sun,normal>\",inner)\n",
    "\n",
    "in_func = inner*r_jacc_alt\n",
    "display(\"function in integral\",in_func)\n",
    "\n"
   ]
  },
  {
   "cell_type": "code",
   "execution_count": 679,
   "metadata": {},
   "outputs": [
    {
     "data": {
      "text/latex": [
       "$\\displaystyle 5.6616 \\cos{\\left(θ \\right)}$"
      ],
      "text/plain": [
       "5.6616*cos(θ)"
      ]
     },
     "execution_count": 679,
     "metadata": {},
     "output_type": "execute_result"
    }
   ],
   "source": [
    "integral = integrate(in_func, (v, -1.68/2, 1.68/2), (u, -3.37/2, 3.37/2))\n",
    "\n",
    "integral"
   ]
  },
  {
   "cell_type": "code",
   "execution_count": 680,
   "metadata": {},
   "outputs": [
    {
     "data": {
      "text/latex": [
       "$\\displaystyle 441.309523809524 \\cos{\\left(θ \\right)}$"
      ],
      "text/plain": [
       "441.309523809524*cos(θ)"
      ]
     },
     "metadata": {},
     "output_type": "display_data"
    }
   ],
   "source": [
    "S0 = 1100\n",
    "A = 0.5\n",
    "\n",
    "maxEffect = 250\n",
    "maxEffectPrArea = maxEffect/(0.98*1.8)\n",
    "maxFlux = 1000\n",
    "EprF = maxEffectPrArea/maxFlux  # effect per flux\n",
    "expression = EprF*S0*A * integral\n",
    "display(expression)"
   ]
  },
  {
   "cell_type": "code",
   "execution_count": 681,
   "metadata": {},
   "outputs": [],
   "source": [
    "tidszone = \"Europe/Copenhagen\"\n",
    "start_dato = \"2024-01-01\"\n",
    "slut_dato = \"2024-12-31\"\n",
    "delta_tid = \"H\"  # \"Min\", \"H\",\n",
    "\n",
    "valgt_dato = \"2024-04-20\"\n",
    "\n",
    "# Definition of Location object. Coordinates and elevation of Amager, Copenhagen (Denmark)\n",
    "site = Location(\n",
    "    55.7873055556, 12.5270555556, tidszone, 10, \"DTU (DK)\"\n",
    ")  # latitude, longitude, time_zone, altitude, name\n",
    "\n",
    "# Definition of a time range of simulation\n",
    "times = pd.date_range(\n",
    "    start_dato + \" 00:00:00\", slut_dato + \" 23:59:00\", inclusive=\"left\", freq=delta_tid, tz=tidszone\n",
    ")\n",
    "# Estimate Solar Position with the 'Location' object\n",
    "solpos = site.get_solarposition(times)"
   ]
  },
  {
   "cell_type": "code",
   "execution_count": 682,
   "metadata": {},
   "outputs": [
    {
     "data": {
      "text/plain": [
       "671.3145147742283"
      ]
     },
     "execution_count": 682,
     "metadata": {},
     "output_type": "execute_result"
    }
   ],
   "source": [
    "import scipy.integrate as sciInt\n",
    "zenithAngs = np.deg2rad(\n",
    "    np.array(solpos.loc[start_dato:slut_dato].apparent_zenith))\n",
    "azimuthAngs = np.deg2rad(np.array(solpos.loc[start_dato:slut_dato].azimuth))\n",
    "t= np.arange(len(zenithangs))\n",
    "indexOfInterest = t[zenithangs[t]>=0]\n",
    "indexOfInterest = indexOfInterest[zenithangs[indexOfInterest]<=np.pi/2]\n",
    "zenithangs=zenithangs[indexOfInterest]\n",
    "azimuthangs=azimuthangs[indexOfInterest]\n",
    "\n",
    "effectList = np.zeros(len(zenithAngs))\n",
    "\n",
    "\n",
    "for i in range(len(zenithAngs)):\n",
    "        effectList[i] = expression.subs({θ: zenithAngs[i], p: azimuthAngs[i]})\n",
    "        \n",
    "effectList=effectList[effectList>=0]\n",
    "effectList[effectList>=maxEffect]=maxEffect\n",
    "\n",
    "output = (sciInt.simpson(effectList, dx=3600))/3600000\n",
    "\n",
    "output"
   ]
  }
 ],
 "metadata": {
  "kernelspec": {
   "display_name": "Python 3",
   "language": "python",
   "name": "python3"
  },
  "language_info": {
   "codemirror_mode": {
    "name": "ipython",
    "version": 3
   },
   "file_extension": ".py",
   "mimetype": "text/x-python",
   "name": "python",
   "nbconvert_exporter": "python",
   "pygments_lexer": "ipython3",
   "version": "3.11.9"
  }
 },
 "nbformat": 4,
 "nbformat_minor": 2
}
